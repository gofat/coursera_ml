{
 "cells": [
  {
   "cell_type": "code",
   "execution_count": 1,
   "metadata": {
    "collapsed": true
   },
   "outputs": [],
   "source": [
    "%matplotlib inline\n",
    "import matplotlib\n",
    "import pandas\n",
    "import matplotlib.pyplot as plt"
   ]
  },
  {
   "cell_type": "code",
   "execution_count": 2,
   "metadata": {
    "collapsed": true
   },
   "outputs": [],
   "source": [
    "import numpy as np"
   ]
  },
  {
   "cell_type": "code",
   "execution_count": 3,
   "metadata": {
    "collapsed": false
   },
   "outputs": [
    {
     "name": "stderr",
     "output_type": "stream",
     "text": [
      "WARNING:sklearn.datasets.twenty_newsgroups:Downloading dataset from http://people.csail.mit.edu/jrennie/20Newsgroups/20news-bydate.tar.gz (14 MB)\n"
     ]
    }
   ],
   "source": [
    "from sklearn import datasets\n",
    "\n",
    "newsgroups = datasets.fetch_20newsgroups(\n",
    "                    subset='all', \n",
    "                    categories=['alt.atheism', 'sci.space']\n",
    "             )"
   ]
  },
  {
   "cell_type": "code",
   "execution_count": 6,
   "metadata": {
    "collapsed": false
   },
   "outputs": [],
   "source": [
    "text = newsgroups.data\n",
    "target = newsgroups.target"
   ]
  },
  {
   "cell_type": "code",
   "execution_count": 8,
   "metadata": {
    "collapsed": false
   },
   "outputs": [],
   "source": [
    "from sklearn import feature_extraction"
   ]
  },
  {
   "cell_type": "code",
   "execution_count": 9,
   "metadata": {
    "collapsed": true
   },
   "outputs": [],
   "source": [
    "txt = feature_extraction.text.TfidfVectorizer()"
   ]
  },
  {
   "cell_type": "code",
   "execution_count": 22,
   "metadata": {
    "collapsed": false
   },
   "outputs": [],
   "source": [
    "transformed_text = txt.fit_transform(text)"
   ]
  },
  {
   "cell_type": "code",
   "execution_count": 15,
   "metadata": {
    "collapsed": false
   },
   "outputs": [],
   "source": [
    "from sklearn import svm\n",
    "from sklearn import grid_search"
   ]
  },
  {
   "cell_type": "code",
   "execution_count": 20,
   "metadata": {
    "collapsed": false
   },
   "outputs": [],
   "source": [
    "from sklearn.cross_validation import KFold"
   ]
  },
  {
   "cell_type": "code",
   "execution_count": 24,
   "metadata": {
    "collapsed": false
   },
   "outputs": [
    {
     "data": {
      "text/plain": [
       "GridSearchCV(cv=sklearn.cross_validation.KFold(n=1786, n_folds=5, shuffle=True, random_state=241),\n",
       "       error_score='raise',\n",
       "       estimator=SVC(C=1.0, cache_size=200, class_weight=None, coef0=0.0,\n",
       "  decision_function_shape=None, degree=3, gamma='auto', kernel='linear',\n",
       "  max_iter=-1, probability=False, random_state=241, shrinking=True,\n",
       "  tol=0.001, verbose=False),\n",
       "       fit_params={}, iid=True, n_jobs=1,\n",
       "       param_grid={'C': array([  1.00000e-05,   1.00000e-04,   1.00000e-03,   1.00000e-02,\n",
       "         1.00000e-01,   1.00000e+00,   1.00000e+01,   1.00000e+02,\n",
       "         1.00000e+03,   1.00000e+04,   1.00000e+05])},\n",
       "       pre_dispatch='2*n_jobs', refit=True, scoring='accuracy', verbose=0)"
      ]
     },
     "execution_count": 24,
     "metadata": {},
     "output_type": "execute_result"
    }
   ],
   "source": [
    "grid = {'C': np.power(10.0, np.arange(-5, 6))}\n",
    "cv = KFold(len(target), n_folds=5, shuffle=True, random_state=241)\n",
    "clf = svm.SVC(kernel='linear', random_state=241)\n",
    "gs = grid_search.GridSearchCV(clf, grid, scoring='accuracy', cv=cv)\n",
    "gs.fit(transformed_text, target)"
   ]
  },
  {
   "cell_type": "code",
   "execution_count": 25,
   "metadata": {
    "collapsed": false
   },
   "outputs": [
    {
     "name": "stdout",
     "output_type": "stream",
     "text": [
      "0.552631578947\n",
      "{'C': 1.0000000000000001e-05}\n",
      "0.552631578947\n",
      "{'C': 0.0001}\n",
      "0.552631578947\n",
      "{'C': 0.001}\n",
      "0.552631578947\n",
      "{'C': 0.01}\n",
      "0.950167973124\n",
      "{'C': 0.10000000000000001}\n",
      "0.993281075028\n",
      "{'C': 1.0}\n",
      "0.993281075028\n",
      "{'C': 10.0}\n",
      "0.993281075028\n",
      "{'C': 100.0}\n",
      "0.993281075028\n",
      "{'C': 1000.0}\n",
      "0.993281075028\n",
      "{'C': 10000.0}\n",
      "0.993281075028\n",
      "{'C': 100000.0}\n"
     ]
    }
   ],
   "source": [
    "for a in gs.grid_scores_:\n",
    "    print a.mean_validation_score\n",
    "    print a.parameters"
   ]
  },
  {
   "cell_type": "code",
   "execution_count": 34,
   "metadata": {
    "collapsed": false
   },
   "outputs": [
    {
     "data": {
      "text/plain": [
       "{'C': 1.0}"
      ]
     },
     "execution_count": 34,
     "metadata": {},
     "output_type": "execute_result"
    }
   ],
   "source": [
    "gs.best_params_"
   ]
  },
  {
   "cell_type": "code",
   "execution_count": 26,
   "metadata": {
    "collapsed": true
   },
   "outputs": [],
   "source": [
    "clf_1 = svm.SVC(kernel='linear', random_state=241, C=1)"
   ]
  },
  {
   "cell_type": "code",
   "execution_count": 27,
   "metadata": {
    "collapsed": false
   },
   "outputs": [
    {
     "data": {
      "text/plain": [
       "SVC(C=1, cache_size=200, class_weight=None, coef0=0.0,\n",
       "  decision_function_shape=None, degree=3, gamma='auto', kernel='linear',\n",
       "  max_iter=-1, probability=False, random_state=241, shrinking=True,\n",
       "  tol=0.001, verbose=False)"
      ]
     },
     "execution_count": 27,
     "metadata": {},
     "output_type": "execute_result"
    }
   ],
   "source": [
    "clf_1.fit(transformed_text, target)"
   ]
  },
  {
   "cell_type": "code",
   "execution_count": null,
   "metadata": {
    "collapsed": true
   },
   "outputs": [],
   "source": [
    "argsort(absolute(asarray"
   ]
  },
  {
   "cell_type": "code",
   "execution_count": 64,
   "metadata": {
    "collapsed": false
   },
   "outputs": [],
   "source": [
    "coeff = np.asarray(clf_1.coef_)"
   ]
  },
  {
   "cell_type": "code",
   "execution_count": 86,
   "metadata": {
    "collapsed": false
   },
   "outputs": [
    {
     "name": "stdout",
     "output_type": "stream",
     "text": [
      "  (0, 11098)\t0.113315317878\n",
      "  (0, 6775)\t0.0513432082411\n",
      "  (0, 5107)\t0.0544519626112\n",
      "  (0, 98)\t0.059766413309\n",
      "  (0, 27042)\t0.104718642966\n",
      "  (0, 22622)\t0.104718642966\n",
      "  (0, 6135)\t0.104718642966\n",
      "  (0, 27130)\t0.00684318140366\n",
      "  (0, 27083)\t0.00684318140366\n",
      "  (0, 26026)\t0.00721866056204\n",
      "  (0, 23036)\t0.00620129554273\n",
      "  (0, 22982)\t0.00721866056204\n",
      "  (0, 22762)\t0.00721866056204\n",
      "  (0, 22739)\t0.00721866056204\n",
      "  (0, 22595)\t0.00721866056204\n",
      "  (0, 21945)\t0.00684318140366\n",
      "  (0, 20801)\t0.0144373211241\n",
      "  (0, 20800)\t0.0479022698256\n",
      "  (0, 20042)\t0.0216559816861\n",
      "  (0, 16400)\t0.0166782290454\n",
      "  (0, 16224)\t0.00721866056204\n",
      "  (0, 13928)\t0.00721866056204\n",
      "  (0, 11716)\t0.00721866056204\n",
      "  (0, 10127)\t0.00684318140366\n",
      "  (0, 8938)\t0.00721866056204\n",
      "  :\t:\n",
      "  (0, 9935)\t0.324839975194\n",
      "  (0, 9711)\t0.0951687122427\n",
      "  (0, 9622)\t0.0399088130115\n",
      "  (0, 9368)\t0.311250533821\n",
      "  (0, 9107)\t0.157524596754\n",
      "  (0, 9034)\t0.144841345667\n",
      "  (0, 9009)\t0.315049193508\n",
      "  (0, 8498)\t0.0111960110243\n",
      "  (0, 7951)\t0.0200462590056\n",
      "  (0, 7418)\t0.162634545264\n",
      "  (0, 7316)\t0.0872790112064\n",
      "  (0, 6702)\t0.441818285927\n",
      "  (0, 5653)\t0.155915123743\n",
      "  (0, 5621)\t0.325269090529\n",
      "  (0, 5596)\t0.501616320011\n",
      "  (0, 5563)\t0.0279017528158\n",
      "  (0, 4796)\t0.302351221345\n",
      "  (0, 4455)\t0.15490289509\n",
      "  (0, 4241)\t0.564363118987\n",
      "  (0, 4059)\t0.0350470076576\n",
      "  (0, 4040)\t0.211759629633\n",
      "  (0, 3837)\t0.287742272296\n",
      "  (0, 3669)\t0.237285503343\n",
      "  (0, 3601)\t0.184611243628\n",
      "  (0, 335)\t0.241001804518\n"
     ]
    }
   ],
   "source": [
    "print(np.absolute(coeff))"
   ]
  },
  {
   "cell_type": "code",
   "execution_count": 91,
   "metadata": {
    "collapsed": false
   },
   "outputs": [],
   "source": [
    "result = np.argsort(np.absolute(np.asarray(clf_1.coef_.todense()).reshape(-1)))"
   ]
  },
  {
   "cell_type": "code",
   "execution_count": 92,
   "metadata": {
    "collapsed": false
   },
   "outputs": [
    {
     "data": {
      "text/plain": [
       "array([22936, 15606,  5776, 21850, 23673, 17802,  5093,  5088, 12871, 24019], dtype=int64)"
      ]
     },
     "execution_count": 92,
     "metadata": {},
     "output_type": "execute_result"
    }
   ],
   "source": [
    "result[-10:] "
   ]
  },
  {
   "cell_type": "code",
   "execution_count": 98,
   "metadata": {
    "collapsed": false
   },
   "outputs": [],
   "source": [
    "answer = []\n",
    "for i in result[-10:]:\n",
    "    answer.append(txt.get_feature_names()[i]) "
   ]
  },
  {
   "cell_type": "code",
   "execution_count": 104,
   "metadata": {
    "collapsed": false
   },
   "outputs": [
    {
     "name": "stdout",
     "output_type": "stream",
     "text": [
      "[u'atheism', u'atheists', u'bible', u'god', u'keith', u'moon', u'religion', u'sci', u'sky', u'space']\n"
     ]
    }
   ],
   "source": [
    "print answer"
   ]
  },
  {
   "cell_type": "code",
   "execution_count": null,
   "metadata": {
    "collapsed": true
   },
   "outputs": [],
   "source": []
  }
 ],
 "metadata": {
  "kernelspec": {
   "display_name": "Python 2",
   "language": "python",
   "name": "python2"
  },
  "language_info": {
   "codemirror_mode": {
    "name": "ipython",
    "version": 2
   },
   "file_extension": ".py",
   "mimetype": "text/x-python",
   "name": "python",
   "nbconvert_exporter": "python",
   "pygments_lexer": "ipython2",
   "version": "2.7.11"
  }
 },
 "nbformat": 4,
 "nbformat_minor": 0
}
