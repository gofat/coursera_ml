{
 "cells": [
  {
   "cell_type": "code",
   "execution_count": 1,
   "metadata": {
    "collapsed": true
   },
   "outputs": [],
   "source": [
    "%matplotlib inline\n",
    "import matplotlib\n",
    "import pandas as pd\n",
    "import matplotlib.pyplot as plt\n",
    "import numpy as np"
   ]
  },
  {
   "cell_type": "markdown",
   "metadata": {},
   "source": [
    "# Градиентынй бустинг \"в лоб\"\n",
    "\n",
    "В этой части работы решение получается с помощью градиентного бустинга."
   ]
  },
  {
   "cell_type": "code",
   "execution_count": 13,
   "metadata": {
    "collapsed": false
   },
   "outputs": [],
   "source": [
    "features = pd.read_csv('features.csv')#считывание файла features\n",
    "features_test = pd.read_csv('features_test.csv')#считывание test_features"
   ]
  },
  {
   "cell_type": "code",
   "execution_count": 3,
   "metadata": {
    "collapsed": false
   },
   "outputs": [
    {
     "data": {
      "text/html": [
       "<div>\n",
       "<table border=\"1\" class=\"dataframe\">\n",
       "  <thead>\n",
       "    <tr style=\"text-align: right;\">\n",
       "      <th></th>\n",
       "      <th>match_id</th>\n",
       "      <th>start_time</th>\n",
       "      <th>lobby_type</th>\n",
       "      <th>r1_hero</th>\n",
       "      <th>r1_level</th>\n",
       "      <th>r1_xp</th>\n",
       "      <th>r1_gold</th>\n",
       "      <th>r1_lh</th>\n",
       "      <th>r1_kills</th>\n",
       "      <th>r1_deaths</th>\n",
       "      <th>...</th>\n",
       "      <th>dire_boots_count</th>\n",
       "      <th>dire_ward_observer_count</th>\n",
       "      <th>dire_ward_sentry_count</th>\n",
       "      <th>dire_first_ward_time</th>\n",
       "      <th>duration</th>\n",
       "      <th>radiant_win</th>\n",
       "      <th>tower_status_radiant</th>\n",
       "      <th>tower_status_dire</th>\n",
       "      <th>barracks_status_radiant</th>\n",
       "      <th>barracks_status_dire</th>\n",
       "    </tr>\n",
       "  </thead>\n",
       "  <tbody>\n",
       "    <tr>\n",
       "      <th>0</th>\n",
       "      <td>0</td>\n",
       "      <td>1430198770</td>\n",
       "      <td>7</td>\n",
       "      <td>11</td>\n",
       "      <td>5</td>\n",
       "      <td>2098</td>\n",
       "      <td>1489</td>\n",
       "      <td>20</td>\n",
       "      <td>0</td>\n",
       "      <td>0</td>\n",
       "      <td>...</td>\n",
       "      <td>4</td>\n",
       "      <td>2</td>\n",
       "      <td>2</td>\n",
       "      <td>-52</td>\n",
       "      <td>2874</td>\n",
       "      <td>1</td>\n",
       "      <td>1796</td>\n",
       "      <td>0</td>\n",
       "      <td>51</td>\n",
       "      <td>0</td>\n",
       "    </tr>\n",
       "    <tr>\n",
       "      <th>1</th>\n",
       "      <td>1</td>\n",
       "      <td>1430220345</td>\n",
       "      <td>0</td>\n",
       "      <td>42</td>\n",
       "      <td>4</td>\n",
       "      <td>1188</td>\n",
       "      <td>1033</td>\n",
       "      <td>9</td>\n",
       "      <td>0</td>\n",
       "      <td>1</td>\n",
       "      <td>...</td>\n",
       "      <td>4</td>\n",
       "      <td>3</td>\n",
       "      <td>1</td>\n",
       "      <td>-5</td>\n",
       "      <td>2463</td>\n",
       "      <td>1</td>\n",
       "      <td>1974</td>\n",
       "      <td>0</td>\n",
       "      <td>63</td>\n",
       "      <td>1</td>\n",
       "    </tr>\n",
       "    <tr>\n",
       "      <th>2</th>\n",
       "      <td>2</td>\n",
       "      <td>1430227081</td>\n",
       "      <td>7</td>\n",
       "      <td>33</td>\n",
       "      <td>4</td>\n",
       "      <td>1319</td>\n",
       "      <td>1270</td>\n",
       "      <td>22</td>\n",
       "      <td>0</td>\n",
       "      <td>0</td>\n",
       "      <td>...</td>\n",
       "      <td>4</td>\n",
       "      <td>3</td>\n",
       "      <td>1</td>\n",
       "      <td>13</td>\n",
       "      <td>2130</td>\n",
       "      <td>0</td>\n",
       "      <td>0</td>\n",
       "      <td>1830</td>\n",
       "      <td>0</td>\n",
       "      <td>63</td>\n",
       "    </tr>\n",
       "    <tr>\n",
       "      <th>3</th>\n",
       "      <td>3</td>\n",
       "      <td>1430263531</td>\n",
       "      <td>1</td>\n",
       "      <td>29</td>\n",
       "      <td>4</td>\n",
       "      <td>1779</td>\n",
       "      <td>1056</td>\n",
       "      <td>14</td>\n",
       "      <td>0</td>\n",
       "      <td>0</td>\n",
       "      <td>...</td>\n",
       "      <td>4</td>\n",
       "      <td>2</td>\n",
       "      <td>0</td>\n",
       "      <td>27</td>\n",
       "      <td>1459</td>\n",
       "      <td>0</td>\n",
       "      <td>1920</td>\n",
       "      <td>2047</td>\n",
       "      <td>50</td>\n",
       "      <td>63</td>\n",
       "    </tr>\n",
       "    <tr>\n",
       "      <th>4</th>\n",
       "      <td>4</td>\n",
       "      <td>1430282290</td>\n",
       "      <td>7</td>\n",
       "      <td>13</td>\n",
       "      <td>4</td>\n",
       "      <td>1431</td>\n",
       "      <td>1090</td>\n",
       "      <td>8</td>\n",
       "      <td>1</td>\n",
       "      <td>0</td>\n",
       "      <td>...</td>\n",
       "      <td>3</td>\n",
       "      <td>3</td>\n",
       "      <td>0</td>\n",
       "      <td>-16</td>\n",
       "      <td>2449</td>\n",
       "      <td>0</td>\n",
       "      <td>4</td>\n",
       "      <td>1974</td>\n",
       "      <td>3</td>\n",
       "      <td>63</td>\n",
       "    </tr>\n",
       "  </tbody>\n",
       "</table>\n",
       "<p>5 rows × 109 columns</p>\n",
       "</div>"
      ],
      "text/plain": [
       "   match_id  start_time  lobby_type  r1_hero  r1_level  r1_xp  r1_gold  r1_lh  \\\n",
       "0         0  1430198770           7       11         5   2098     1489     20   \n",
       "1         1  1430220345           0       42         4   1188     1033      9   \n",
       "2         2  1430227081           7       33         4   1319     1270     22   \n",
       "3         3  1430263531           1       29         4   1779     1056     14   \n",
       "4         4  1430282290           7       13         4   1431     1090      8   \n",
       "\n",
       "   r1_kills  r1_deaths          ...           dire_boots_count  \\\n",
       "0         0          0          ...                          4   \n",
       "1         0          1          ...                          4   \n",
       "2         0          0          ...                          4   \n",
       "3         0          0          ...                          4   \n",
       "4         1          0          ...                          3   \n",
       "\n",
       "   dire_ward_observer_count  dire_ward_sentry_count  dire_first_ward_time  \\\n",
       "0                         2                       2                   -52   \n",
       "1                         3                       1                    -5   \n",
       "2                         3                       1                    13   \n",
       "3                         2                       0                    27   \n",
       "4                         3                       0                   -16   \n",
       "\n",
       "   duration  radiant_win  tower_status_radiant  tower_status_dire  \\\n",
       "0      2874            1                  1796                  0   \n",
       "1      2463            1                  1974                  0   \n",
       "2      2130            0                     0               1830   \n",
       "3      1459            0                  1920               2047   \n",
       "4      2449            0                     4               1974   \n",
       "\n",
       "   barracks_status_radiant  barracks_status_dire  \n",
       "0                       51                     0  \n",
       "1                       63                     1  \n",
       "2                        0                    63  \n",
       "3                       50                    63  \n",
       "4                        3                    63  \n",
       "\n",
       "[5 rows x 109 columns]"
      ]
     },
     "execution_count": 3,
     "metadata": {},
     "output_type": "execute_result"
    }
   ],
   "source": [
    "features.head()#топ строк для просмотра структуры"
   ]
  },
  {
   "cell_type": "code",
   "execution_count": 4,
   "metadata": {
    "collapsed": false
   },
   "outputs": [
    {
     "data": {
      "text/html": [
       "<div>\n",
       "<table border=\"1\" class=\"dataframe\">\n",
       "  <thead>\n",
       "    <tr style=\"text-align: right;\">\n",
       "      <th></th>\n",
       "      <th>match_id</th>\n",
       "      <th>start_time</th>\n",
       "      <th>lobby_type</th>\n",
       "      <th>r1_hero</th>\n",
       "      <th>r1_level</th>\n",
       "      <th>r1_xp</th>\n",
       "      <th>r1_gold</th>\n",
       "      <th>r1_lh</th>\n",
       "      <th>r1_kills</th>\n",
       "      <th>r1_deaths</th>\n",
       "      <th>...</th>\n",
       "      <th>radiant_ward_sentry_count</th>\n",
       "      <th>radiant_first_ward_time</th>\n",
       "      <th>dire_bottle_time</th>\n",
       "      <th>dire_courier_time</th>\n",
       "      <th>dire_flying_courier_time</th>\n",
       "      <th>dire_tpscroll_count</th>\n",
       "      <th>dire_boots_count</th>\n",
       "      <th>dire_ward_observer_count</th>\n",
       "      <th>dire_ward_sentry_count</th>\n",
       "      <th>dire_first_ward_time</th>\n",
       "    </tr>\n",
       "  </thead>\n",
       "  <tbody>\n",
       "    <tr>\n",
       "      <th>0</th>\n",
       "      <td>6</td>\n",
       "      <td>1430287923</td>\n",
       "      <td>0</td>\n",
       "      <td>93</td>\n",
       "      <td>4</td>\n",
       "      <td>1103</td>\n",
       "      <td>1089</td>\n",
       "      <td>8</td>\n",
       "      <td>0</td>\n",
       "      <td>1</td>\n",
       "      <td>...</td>\n",
       "      <td>0</td>\n",
       "      <td>12</td>\n",
       "      <td>247</td>\n",
       "      <td>-86</td>\n",
       "      <td>272</td>\n",
       "      <td>3</td>\n",
       "      <td>4</td>\n",
       "      <td>2</td>\n",
       "      <td>0</td>\n",
       "      <td>118</td>\n",
       "    </tr>\n",
       "    <tr>\n",
       "      <th>1</th>\n",
       "      <td>7</td>\n",
       "      <td>1430293357</td>\n",
       "      <td>1</td>\n",
       "      <td>20</td>\n",
       "      <td>2</td>\n",
       "      <td>556</td>\n",
       "      <td>570</td>\n",
       "      <td>1</td>\n",
       "      <td>0</td>\n",
       "      <td>0</td>\n",
       "      <td>...</td>\n",
       "      <td>2</td>\n",
       "      <td>-29</td>\n",
       "      <td>168</td>\n",
       "      <td>-54</td>\n",
       "      <td>NaN</td>\n",
       "      <td>3</td>\n",
       "      <td>2</td>\n",
       "      <td>2</td>\n",
       "      <td>1</td>\n",
       "      <td>16</td>\n",
       "    </tr>\n",
       "    <tr>\n",
       "      <th>2</th>\n",
       "      <td>10</td>\n",
       "      <td>1430301774</td>\n",
       "      <td>1</td>\n",
       "      <td>112</td>\n",
       "      <td>2</td>\n",
       "      <td>751</td>\n",
       "      <td>808</td>\n",
       "      <td>1</td>\n",
       "      <td>0</td>\n",
       "      <td>0</td>\n",
       "      <td>...</td>\n",
       "      <td>1</td>\n",
       "      <td>-22</td>\n",
       "      <td>46</td>\n",
       "      <td>-87</td>\n",
       "      <td>186</td>\n",
       "      <td>1</td>\n",
       "      <td>3</td>\n",
       "      <td>3</td>\n",
       "      <td>0</td>\n",
       "      <td>-34</td>\n",
       "    </tr>\n",
       "    <tr>\n",
       "      <th>3</th>\n",
       "      <td>13</td>\n",
       "      <td>1430323933</td>\n",
       "      <td>1</td>\n",
       "      <td>27</td>\n",
       "      <td>3</td>\n",
       "      <td>708</td>\n",
       "      <td>903</td>\n",
       "      <td>1</td>\n",
       "      <td>1</td>\n",
       "      <td>1</td>\n",
       "      <td>...</td>\n",
       "      <td>2</td>\n",
       "      <td>-49</td>\n",
       "      <td>30</td>\n",
       "      <td>-89</td>\n",
       "      <td>210</td>\n",
       "      <td>3</td>\n",
       "      <td>4</td>\n",
       "      <td>2</td>\n",
       "      <td>1</td>\n",
       "      <td>-26</td>\n",
       "    </tr>\n",
       "    <tr>\n",
       "      <th>4</th>\n",
       "      <td>16</td>\n",
       "      <td>1430331112</td>\n",
       "      <td>1</td>\n",
       "      <td>39</td>\n",
       "      <td>4</td>\n",
       "      <td>1259</td>\n",
       "      <td>661</td>\n",
       "      <td>4</td>\n",
       "      <td>0</td>\n",
       "      <td>0</td>\n",
       "      <td>...</td>\n",
       "      <td>0</td>\n",
       "      <td>36</td>\n",
       "      <td>180</td>\n",
       "      <td>-86</td>\n",
       "      <td>180</td>\n",
       "      <td>1</td>\n",
       "      <td>3</td>\n",
       "      <td>2</td>\n",
       "      <td>1</td>\n",
       "      <td>-33</td>\n",
       "    </tr>\n",
       "  </tbody>\n",
       "</table>\n",
       "<p>5 rows × 103 columns</p>\n",
       "</div>"
      ],
      "text/plain": [
       "   match_id  start_time  lobby_type  r1_hero  r1_level  r1_xp  r1_gold  r1_lh  \\\n",
       "0         6  1430287923           0       93         4   1103     1089      8   \n",
       "1         7  1430293357           1       20         2    556      570      1   \n",
       "2        10  1430301774           1      112         2    751      808      1   \n",
       "3        13  1430323933           1       27         3    708      903      1   \n",
       "4        16  1430331112           1       39         4   1259      661      4   \n",
       "\n",
       "   r1_kills  r1_deaths          ...           radiant_ward_sentry_count  \\\n",
       "0         0          1          ...                                   0   \n",
       "1         0          0          ...                                   2   \n",
       "2         0          0          ...                                   1   \n",
       "3         1          1          ...                                   2   \n",
       "4         0          0          ...                                   0   \n",
       "\n",
       "   radiant_first_ward_time  dire_bottle_time  dire_courier_time  \\\n",
       "0                       12               247                -86   \n",
       "1                      -29               168                -54   \n",
       "2                      -22                46                -87   \n",
       "3                      -49                30                -89   \n",
       "4                       36               180                -86   \n",
       "\n",
       "   dire_flying_courier_time  dire_tpscroll_count  dire_boots_count  \\\n",
       "0                       272                    3                 4   \n",
       "1                       NaN                    3                 2   \n",
       "2                       186                    1                 3   \n",
       "3                       210                    3                 4   \n",
       "4                       180                    1                 3   \n",
       "\n",
       "   dire_ward_observer_count  dire_ward_sentry_count  dire_first_ward_time  \n",
       "0                         2                       0                   118  \n",
       "1                         2                       1                    16  \n",
       "2                         3                       0                   -34  \n",
       "3                         2                       1                   -26  \n",
       "4                         2                       1                   -33  \n",
       "\n",
       "[5 rows x 103 columns]"
      ]
     },
     "execution_count": 4,
     "metadata": {},
     "output_type": "execute_result"
    }
   ],
   "source": [
    "features_test.head()#топ строк для просмотра структуры"
   ]
  },
  {
   "cell_type": "code",
   "execution_count": 5,
   "metadata": {
    "collapsed": false
   },
   "outputs": [],
   "source": [
    "count = features.count() #подсчет числа заполненных полей"
   ]
  },
  {
   "cell_type": "code",
   "execution_count": 6,
   "metadata": {
    "collapsed": false
   },
   "outputs": [
    {
     "name": "stdout",
     "output_type": "stream",
     "text": [
      "match_id                       97230\n",
      "start_time                     97230\n",
      "lobby_type                     97230\n",
      "r1_hero                        97230\n",
      "r1_level                       97230\n",
      "r1_xp                          97230\n",
      "r1_gold                        97230\n",
      "r1_lh                          97230\n",
      "r1_kills                       97230\n",
      "r1_deaths                      97230\n",
      "r1_items                       97230\n",
      "r2_hero                        97230\n",
      "r2_level                       97230\n",
      "r2_xp                          97230\n",
      "r2_gold                        97230\n",
      "r2_lh                          97230\n",
      "r2_kills                       97230\n",
      "r2_deaths                      97230\n",
      "r2_items                       97230\n",
      "r3_hero                        97230\n",
      "r3_level                       97230\n",
      "r3_xp                          97230\n",
      "r3_gold                        97230\n",
      "r3_lh                          97230\n",
      "r3_kills                       97230\n",
      "r3_deaths                      97230\n",
      "r3_items                       97230\n",
      "r4_hero                        97230\n",
      "r4_level                       97230\n",
      "r4_xp                          97230\n",
      "                               ...  \n",
      "d5_lh                          97230\n",
      "d5_kills                       97230\n",
      "d5_deaths                      97230\n",
      "d5_items                       97230\n",
      "first_blood_time               77677\n",
      "first_blood_team               77677\n",
      "first_blood_player1            77677\n",
      "first_blood_player2            53243\n",
      "radiant_bottle_time            81539\n",
      "radiant_courier_time           96538\n",
      "radiant_flying_courier_time    69751\n",
      "radiant_tpscroll_count         97230\n",
      "radiant_boots_count            97230\n",
      "radiant_ward_observer_count    97230\n",
      "radiant_ward_sentry_count      97230\n",
      "radiant_first_ward_time        95394\n",
      "dire_bottle_time               81087\n",
      "dire_courier_time              96554\n",
      "dire_flying_courier_time       71132\n",
      "dire_tpscroll_count            97230\n",
      "dire_boots_count               97230\n",
      "dire_ward_observer_count       97230\n",
      "dire_ward_sentry_count         97230\n",
      "dire_first_ward_time           95404\n",
      "duration                       97230\n",
      "radiant_win                    97230\n",
      "tower_status_radiant           97230\n",
      "tower_status_dire              97230\n",
      "barracks_status_radiant        97230\n",
      "barracks_status_dire           97230\n",
      "dtype: int64\n"
     ]
    }
   ],
   "source": [
    "print count #выведем на экран"
   ]
  },
  {
   "cell_type": "markdown",
   "metadata": {},
   "source": [
    "# Целевая переменная в radiant win.\n",
    "\n",
    "Признаки с пропусками:\n",
    "\n",
    "first_blood_time               77677\n",
    "\n",
    "first_blood_team               77677\n",
    "\n",
    "first_blood_player1            77677\n",
    "\n",
    "first_blood_player2            53243\n",
    "\n",
    "radiant_bottle_time            81539\n",
    "\n",
    "radiant_courier_time           96538\n",
    "\n",
    "radiant_flying_courier_time    69751\n",
    "\n",
    "radiant_first_ward_time        95394\n",
    "\n",
    "dire_bottle_time               81087\n",
    "\n",
    "dire_courier_time              96554\n",
    "\n",
    "dire_flying_courier_time       71132\n",
    "\n",
    "dire_first_ward_time           95404\n",
    "\n",
    "Курьера можно и не покупать (но лучше его иметь, конечно),а уж летающего вообще не обязательно иметь.Поэтому столбцы, связанные с курьером имеют пропуски."
   ]
  },
  {
   "cell_type": "code",
   "execution_count": 14,
   "metadata": {
    "collapsed": false
   },
   "outputs": [],
   "source": [
    "features = features.fillna(value=0)#заполнение пустых полей\n",
    "features_test = features_test.fillna(value=0)#заполнение пустых полей"
   ]
  },
  {
   "cell_type": "code",
   "execution_count": 9,
   "metadata": {
    "collapsed": true
   },
   "outputs": [],
   "source": [
    "from sklearn import cross_validation#импорт кросс-валидации\n",
    "kf = cross_validation.KFold(len(features),n_folds=5,shuffle=True,random_state=241)#задаем кросс-валидацию"
   ]
  },
  {
   "cell_type": "code",
   "execution_count": 15,
   "metadata": {
    "collapsed": true
   },
   "outputs": [],
   "source": [
    "features_target = features['radiant_win']#выбираем целевой столбец"
   ]
  },
  {
   "cell_type": "code",
   "execution_count": 16,
   "metadata": {
    "collapsed": false
   },
   "outputs": [],
   "source": [
    "features_train = features.drop(['duration','radiant_win','tower_status_radiant','tower_status_dire','barracks_status_dire','barracks_status_radiant'],axis=1)#удаляем столбцы, которые заглядывают в будущее"
   ]
  },
  {
   "cell_type": "code",
   "execution_count": 18,
   "metadata": {
    "collapsed": false
   },
   "outputs": [
    {
     "data": {
      "text/html": [
       "<div>\n",
       "<table border=\"1\" class=\"dataframe\">\n",
       "  <thead>\n",
       "    <tr style=\"text-align: right;\">\n",
       "      <th></th>\n",
       "      <th>match_id</th>\n",
       "      <th>start_time</th>\n",
       "      <th>lobby_type</th>\n",
       "      <th>r1_hero</th>\n",
       "      <th>r1_level</th>\n",
       "      <th>r1_xp</th>\n",
       "      <th>r1_gold</th>\n",
       "      <th>r1_lh</th>\n",
       "      <th>r1_kills</th>\n",
       "      <th>r1_deaths</th>\n",
       "      <th>...</th>\n",
       "      <th>radiant_ward_sentry_count</th>\n",
       "      <th>radiant_first_ward_time</th>\n",
       "      <th>dire_bottle_time</th>\n",
       "      <th>dire_courier_time</th>\n",
       "      <th>dire_flying_courier_time</th>\n",
       "      <th>dire_tpscroll_count</th>\n",
       "      <th>dire_boots_count</th>\n",
       "      <th>dire_ward_observer_count</th>\n",
       "      <th>dire_ward_sentry_count</th>\n",
       "      <th>dire_first_ward_time</th>\n",
       "    </tr>\n",
       "  </thead>\n",
       "  <tbody>\n",
       "    <tr>\n",
       "      <th>0</th>\n",
       "      <td>0</td>\n",
       "      <td>1430198770</td>\n",
       "      <td>7</td>\n",
       "      <td>11</td>\n",
       "      <td>5</td>\n",
       "      <td>2098</td>\n",
       "      <td>1489</td>\n",
       "      <td>20</td>\n",
       "      <td>0</td>\n",
       "      <td>0</td>\n",
       "      <td>...</td>\n",
       "      <td>0</td>\n",
       "      <td>35</td>\n",
       "      <td>103</td>\n",
       "      <td>-84</td>\n",
       "      <td>221</td>\n",
       "      <td>3</td>\n",
       "      <td>4</td>\n",
       "      <td>2</td>\n",
       "      <td>2</td>\n",
       "      <td>-52</td>\n",
       "    </tr>\n",
       "    <tr>\n",
       "      <th>1</th>\n",
       "      <td>1</td>\n",
       "      <td>1430220345</td>\n",
       "      <td>0</td>\n",
       "      <td>42</td>\n",
       "      <td>4</td>\n",
       "      <td>1188</td>\n",
       "      <td>1033</td>\n",
       "      <td>9</td>\n",
       "      <td>0</td>\n",
       "      <td>1</td>\n",
       "      <td>...</td>\n",
       "      <td>0</td>\n",
       "      <td>-20</td>\n",
       "      <td>149</td>\n",
       "      <td>-84</td>\n",
       "      <td>195</td>\n",
       "      <td>5</td>\n",
       "      <td>4</td>\n",
       "      <td>3</td>\n",
       "      <td>1</td>\n",
       "      <td>-5</td>\n",
       "    </tr>\n",
       "    <tr>\n",
       "      <th>2</th>\n",
       "      <td>2</td>\n",
       "      <td>1430227081</td>\n",
       "      <td>7</td>\n",
       "      <td>33</td>\n",
       "      <td>4</td>\n",
       "      <td>1319</td>\n",
       "      <td>1270</td>\n",
       "      <td>22</td>\n",
       "      <td>0</td>\n",
       "      <td>0</td>\n",
       "      <td>...</td>\n",
       "      <td>1</td>\n",
       "      <td>-39</td>\n",
       "      <td>45</td>\n",
       "      <td>-77</td>\n",
       "      <td>221</td>\n",
       "      <td>3</td>\n",
       "      <td>4</td>\n",
       "      <td>3</td>\n",
       "      <td>1</td>\n",
       "      <td>13</td>\n",
       "    </tr>\n",
       "    <tr>\n",
       "      <th>3</th>\n",
       "      <td>3</td>\n",
       "      <td>1430263531</td>\n",
       "      <td>1</td>\n",
       "      <td>29</td>\n",
       "      <td>4</td>\n",
       "      <td>1779</td>\n",
       "      <td>1056</td>\n",
       "      <td>14</td>\n",
       "      <td>0</td>\n",
       "      <td>0</td>\n",
       "      <td>...</td>\n",
       "      <td>0</td>\n",
       "      <td>-30</td>\n",
       "      <td>124</td>\n",
       "      <td>-80</td>\n",
       "      <td>184</td>\n",
       "      <td>0</td>\n",
       "      <td>4</td>\n",
       "      <td>2</td>\n",
       "      <td>0</td>\n",
       "      <td>27</td>\n",
       "    </tr>\n",
       "    <tr>\n",
       "      <th>4</th>\n",
       "      <td>4</td>\n",
       "      <td>1430282290</td>\n",
       "      <td>7</td>\n",
       "      <td>13</td>\n",
       "      <td>4</td>\n",
       "      <td>1431</td>\n",
       "      <td>1090</td>\n",
       "      <td>8</td>\n",
       "      <td>1</td>\n",
       "      <td>0</td>\n",
       "      <td>...</td>\n",
       "      <td>0</td>\n",
       "      <td>46</td>\n",
       "      <td>182</td>\n",
       "      <td>-80</td>\n",
       "      <td>225</td>\n",
       "      <td>6</td>\n",
       "      <td>3</td>\n",
       "      <td>3</td>\n",
       "      <td>0</td>\n",
       "      <td>-16</td>\n",
       "    </tr>\n",
       "  </tbody>\n",
       "</table>\n",
       "<p>5 rows × 103 columns</p>\n",
       "</div>"
      ],
      "text/plain": [
       "   match_id  start_time  lobby_type  r1_hero  r1_level  r1_xp  r1_gold  r1_lh  \\\n",
       "0         0  1430198770           7       11         5   2098     1489     20   \n",
       "1         1  1430220345           0       42         4   1188     1033      9   \n",
       "2         2  1430227081           7       33         4   1319     1270     22   \n",
       "3         3  1430263531           1       29         4   1779     1056     14   \n",
       "4         4  1430282290           7       13         4   1431     1090      8   \n",
       "\n",
       "   r1_kills  r1_deaths          ...           radiant_ward_sentry_count  \\\n",
       "0         0          0          ...                                   0   \n",
       "1         0          1          ...                                   0   \n",
       "2         0          0          ...                                   1   \n",
       "3         0          0          ...                                   0   \n",
       "4         1          0          ...                                   0   \n",
       "\n",
       "   radiant_first_ward_time  dire_bottle_time  dire_courier_time  \\\n",
       "0                       35               103                -84   \n",
       "1                      -20               149                -84   \n",
       "2                      -39                45                -77   \n",
       "3                      -30               124                -80   \n",
       "4                       46               182                -80   \n",
       "\n",
       "   dire_flying_courier_time  dire_tpscroll_count  dire_boots_count  \\\n",
       "0                       221                    3                 4   \n",
       "1                       195                    5                 4   \n",
       "2                       221                    3                 4   \n",
       "3                       184                    0                 4   \n",
       "4                       225                    6                 3   \n",
       "\n",
       "   dire_ward_observer_count  dire_ward_sentry_count  dire_first_ward_time  \n",
       "0                         2                       2                   -52  \n",
       "1                         3                       1                    -5  \n",
       "2                         3                       1                    13  \n",
       "3                         2                       0                    27  \n",
       "4                         3                       0                   -16  \n",
       "\n",
       "[5 rows x 103 columns]"
      ]
     },
     "execution_count": 18,
     "metadata": {},
     "output_type": "execute_result"
    }
   ],
   "source": [
    "features_train.head()#новый датасет без столбцов, которые заглядывают в будущее"
   ]
  },
  {
   "cell_type": "code",
   "execution_count": 21,
   "metadata": {
    "collapsed": true
   },
   "outputs": [],
   "source": [
    "from sklearn import ensemble #импортируем ensemble\n",
    "import sklearn.cross_validation #импортируем кросс-валидацию"
   ]
  },
  {
   "cell_type": "code",
   "execution_count": 22,
   "metadata": {
    "collapsed": false
   },
   "outputs": [
    {
     "name": "stdout",
     "output_type": "stream",
     "text": [
      "[10, 20, 30]\n",
      "      Iter       Train Loss   Remaining Time \n",
      "         1           1.3786           21.19s\n",
      "         2           1.3732           18.99s\n",
      "         3           1.3681           17.45s\n",
      "         4           1.3636           14.66s\n",
      "         5           1.3589           12.17s\n",
      "         6           1.3547            9.95s\n",
      "         7           1.3502            7.42s\n",
      "         8           1.3461            4.91s\n",
      "         9           1.3422            2.45s\n",
      "        10           1.3385            0.00s\n",
      "      Iter       Train Loss   Remaining Time \n",
      "         1           1.3786           46.49s\n",
      "         2           1.3732           43.67s\n",
      "         3           1.3681           41.30s\n",
      "         4           1.3636           38.89s\n",
      "         5           1.3589           36.27s\n",
      "         6           1.3547           33.81s\n",
      "         7           1.3502           31.25s\n",
      "         8           1.3461           28.76s\n",
      "         9           1.3422           26.34s\n",
      "        10           1.3385           23.91s\n",
      "        20           1.3092            0.00s\n",
      "      Iter       Train Loss   Remaining Time \n",
      "         1           1.3786            1.15m\n",
      "         2           1.3732            1.07m\n",
      "         3           1.3681            1.04m\n",
      "         4           1.3636           59.80s\n",
      "         5           1.3589           57.23s\n",
      "         6           1.3547           55.34s\n",
      "         7           1.3502           53.55s\n",
      "         8           1.3461           50.90s\n",
      "         9           1.3422           48.51s\n",
      "        10           1.3385           46.13s\n",
      "        20           1.3092           23.00s\n",
      "        30           1.2892            0.00s\n"
     ]
    }
   ],
   "source": [
    "score = []#список результатов\n",
    "n_est = [x for x in range(10,40,10)]#число деревьев (10-30)\n",
    "print n_est#выводим число деревьев\n",
    "for n in n_est:\n",
    "    alg = ensemble.GradientBoostingClassifier(n_estimators=n, verbose=True, random_state=241)#класификатор на градиентном бустинге\n",
    "    alg.fit(features_train, features_target)#обучаем класификатор\n",
    "    score.append(sklearn.cross_validation.cross_val_score(alg,features_train, features_target,cv=kf, n_jobs=-1,scoring='roc_auc').mean())\n",
    "    #к списку результатов добавляем средний получившийся на кросс-валидации результат по roc_auc score"
   ]
  },
  {
   "cell_type": "code",
   "execution_count": 23,
   "metadata": {
    "collapsed": false
   },
   "outputs": [
    {
     "data": {
      "text/plain": [
       "[<matplotlib.lines.Line2D at 0x8c0f780>]"
      ]
     },
     "execution_count": 23,
     "metadata": {},
     "output_type": "execute_result"
    },
    {
     "data": {
      "image/png": "[encoded data removed]",
      "text/plain": [
       "<matplotlib.figure.Figure at 0x10c7e2e8>"
      ]
     },
     "metadata": {},
     "output_type": "display_data"
    }
   ],
   "source": [
    "plt.plot(n_est,score) #график результатов"
   ]
  },
  {
   "cell_type": "markdown",
   "metadata": {},
   "source": [
    "Можно заметить, что качество улучшается при росте количества дереьев"
   ]
  },
  {
   "cell_type": "code",
   "execution_count": 24,
   "metadata": {
    "collapsed": false
   },
   "outputs": [
    {
     "name": "stdout",
     "output_type": "stream",
     "text": [
      "      Iter       Train Loss   Remaining Time \n",
      "         1           1.3786            1.09m\n",
      "         2           1.3732            1.05m\n",
      "         3           1.3681            1.01m\n",
      "         4           1.3636           58.51s\n",
      "         5           1.3589           55.94s\n",
      "         6           1.3547           53.98s\n",
      "         7           1.3502           51.73s\n",
      "         8           1.3461           49.42s\n",
      "         9           1.3422           47.02s\n",
      "        10           1.3385           44.65s\n",
      "        20           1.3092           22.05s\n",
      "        30           1.2892            0.00s\n",
      "roc-auc for 30 trees:  0.689496203941\n",
      "Time elapsed: 0:04:19.762000\n"
     ]
    }
   ],
   "source": [
    "#время кроссвалидации для 30 деревьев\n",
    "import time\n",
    "import datetime\n",
    "\n",
    "start_time = datetime.datetime.now()\n",
    "\n",
    "alg = ensemble.GradientBoostingClassifier(n_estimators=n, verbose=True, random_state=241,subsample=0.5)#класификатор на градиентном бустинге\n",
    "alg.fit(features_train, features_target)#обучаем класификатор\n",
    "print \"roc-auc for 30 trees: \", sklearn.cross_validation.cross_val_score(alg,features_train, features_target,cv=kf, n_jobs=-1,scoring='roc_auc').mean()\n",
    "\n",
    "print 'Time elapsed:', datetime.datetime.now() - start_time"
   ]
  },
  {
   "cell_type": "markdown",
   "metadata": {},
   "source": [
    "В итоге получается рост качетсва модели с ростом числа деревьев. Я бы предложил продолжить обучение, а так же продолжить подбор памаметров для улучшения качества модели.\n",
    "\n",
    "Для ускорения обучения можно использовать:\n",
    "\n",
    "- Подвыборки по объектам\n",
    "- Подвыборки по признакам\n",
    "- Увеличить шаг обучения\n",
    "- Уменьшить число Folds при кросс-валидации"
   ]
  },
  {
   "cell_type": "markdown",
   "metadata": {},
   "source": [
    "# Логистическая регрессия\n",
    "В это части рассматривается решение с помощью логистической регрессии."
   ]
  },
  {
   "cell_type": "code",
   "execution_count": 26,
   "metadata": {
    "collapsed": false
   },
   "outputs": [],
   "source": [
    "from sklearn.preprocessing import StandardScaler #импортируем Scaler для нормализации признаков"
   ]
  },
  {
   "cell_type": "code",
   "execution_count": 33,
   "metadata": {
    "collapsed": true
   },
   "outputs": [],
   "source": [
    "scaler = StandardScaler() #инициализируем scaler\n",
    "scaled_train = scaler.fit_transform(features_train) #нормализация train\n",
    "scaled_test = scaler.fit_transform(features_test) #нормализация test"
   ]
  },
  {
   "cell_type": "code",
   "execution_count": 29,
   "metadata": {
    "collapsed": true
   },
   "outputs": [],
   "source": [
    "from sklearn.linear_model import LogisticRegression #имортируем логисчтиескую регрессию"
   ]
  },
  {
   "cell_type": "code",
   "execution_count": 63,
   "metadata": {
    "collapsed": false
   },
   "outputs": [
    {
     "name": "stdout",
     "output_type": "stream",
     "text": [
      "[LibLinear]Time elapsed for c = 0.01 : 0:01:21.259000\n",
      "[LibLinear]Time elapsed for c = 0.1 : 0:00:42.330000\n",
      "[LibLinear]Time elapsed for c = 1.0 : 0:00:48.361000\n",
      "[LibLinear]Time elapsed for c = 10 : 0:00:33.553000\n",
      "[LibLinear]Time elapsed for c = 100 : 0:00:32.333000\n",
      "[LibLinear]Time elapsed for c = 1000 : 0:00:31.213000\n",
      "[LibLinear]Time elapsed for c = 10000 : 0:00:32.092000\n"
     ]
    }
   ],
   "source": [
    "logr_score = []#список результатов\n",
    "c_est = [0.01, 0.1, 1.0, 10, 100, 1000, 10000]#значения C для перебора\n",
    "for c in c_est:\n",
    "    start_time = datetime.datetime.now()\n",
    "    logr = LogisticRegression(penalty='l2',C=c,random_state=241,n_jobs=-1,verbose=True)#логистическая регрессия\n",
    "    logr.fit(scaled_train, features_target)#обучаем класификатор\n",
    "    logr_score.append(sklearn.cross_validation.cross_val_score(logr,scaled_train, features_target,cv=kf, n_jobs=-1,scoring='roc_auc').mean())\n",
    "    #к списку результатов добавляем средний получившийся на кросс-валидации результат по roc_auc score\n",
    "    print 'Time elapsed for c =', c,':', datetime.datetime.now() - start_time"
   ]
  },
  {
   "cell_type": "code",
   "execution_count": 64,
   "metadata": {
    "collapsed": false
   },
   "outputs": [
    {
     "data": {
      "text/plain": [
       "[0.71637968521032014,\n",
       " 0.71633926534394698,\n",
       " 0.71633417827895307,\n",
       " 0.71633347712625761,\n",
       " 0.7163334993678413,\n",
       " 0.71633347818686255,\n",
       " 0.71633348242467798]"
      ]
     },
     "execution_count": 64,
     "metadata": {},
     "output_type": "execute_result"
    }
   ],
   "source": [
    "logr_score #удобнее выводить значениями из-за малой разницы"
   ]
  },
  {
   "cell_type": "markdown",
   "metadata": {},
   "source": [
    "Лучшее качество - 0.71637968521032014. Вышло большим, чем градиентный бустинг.\n",
    "Вероятно, это из-за того, что мы почти не подбирали параметры для бустинга. Либо, данные хорошо подходят для линейных методов."
   ]
  },
  {
   "cell_type": "code",
   "execution_count": 44,
   "metadata": {
    "collapsed": true
   },
   "outputs": [],
   "source": [
    "features_train_copy = features_train.drop(['lobby_type','r1_hero','r2_hero','r3_hero','r4_hero','r5_hero','d1_hero','d2_hero','d3_hero','d4_hero','d5_hero'],axis=1)\n",
    "#убрали тип лобби и выбранных героев из данных"
   ]
  },
  {
   "cell_type": "code",
   "execution_count": 46,
   "metadata": {
    "collapsed": true
   },
   "outputs": [],
   "source": [
    "scaled_train_copy = scaler.fit_transform(features_train_copy) #scaling для набора данных без информации о героях"
   ]
  },
  {
   "cell_type": "code",
   "execution_count": 65,
   "metadata": {
    "collapsed": false
   },
   "outputs": [
    {
     "name": "stdout",
     "output_type": "stream",
     "text": [
      "[LibLinear]Time elapsed for c = 0.01 : 0:00:31.110000\n",
      "[LibLinear]Time elapsed for c = 0.1 : 0:00:28.590000\n",
      "[LibLinear]Time elapsed for c = 1.0 : 0:00:28.453000\n",
      "[LibLinear]Time elapsed for c = 10 : 0:00:28.481000\n",
      "[LibLinear]Time elapsed for c = 100 : 0:00:30.031000\n",
      "[LibLinear]Time elapsed for c = 1000 : 0:00:30.012000\n",
      "[LibLinear]Time elapsed for c = 10000 : 0:00:28.230000\n"
     ]
    }
   ],
   "source": [
    "logr_score = []#список результатов\n",
    "c_est = [0.01, 0.1, 1.0, 10, 100, 1000, 10000]#значения C для перебора\n",
    "for c in c_est:\n",
    "    start_time = datetime.datetime.now()\n",
    "    logr = LogisticRegression(penalty='l2',C=c,random_state=241,n_jobs=-1,verbose=True)#логистическая регрессия\n",
    "    logr.fit(scaled_train_copy, features_target)#обучаем класификатор\n",
    "    logr_score.append(sklearn.cross_validation.cross_val_score(logr,scaled_train_copy, features_target,cv=kf, n_jobs=-1,scoring='roc_auc').mean())\n",
    "    #к списку результатов добавляем средний получившийся на кросс-валидации результат по roc_auc score\n",
    "    print 'Time elapsed for c =', c,':', datetime.datetime.now() - start_time"
   ]
  },
  {
   "cell_type": "code",
   "execution_count": 66,
   "metadata": {
    "collapsed": false
   },
   "outputs": [
    {
     "data": {
      "text/plain": [
       "[0.71643768152297438,\n",
       " 0.71640098484036052,\n",
       " 0.71639582099638233,\n",
       " 0.71639570358725313,\n",
       " 0.71639562098557885,\n",
       " 0.71639560298999228,\n",
       " 0.71639560934871205]"
      ]
     },
     "execution_count": 66,
     "metadata": {},
     "output_type": "execute_result"
    }
   ],
   "source": [
    "logr_score #удобнее выводить значениями из-за малой разницы"
   ]
  },
  {
   "cell_type": "markdown",
   "metadata": {},
   "source": [
    "Лучшее качество - 0.71643768152297438, которое немного лучше значения, полученного без исключения информации о героях. \n",
    "Получено при c = 0.01.\n",
    "Скорее всего, использование категоричальных признаков без их перекодирования, приводит к некоторому ухудшению качества предсказаний."
   ]
  },
  {
   "cell_type": "code",
   "execution_count": 99,
   "metadata": {
    "collapsed": false
   },
   "outputs": [
    {
     "name": "stdout",
     "output_type": "stream",
     "text": [
      "len of unique heroes sequence: 108\n",
      "min and max hero id: 1 - 112\n"
     ]
    }
   ],
   "source": [
    "unique_heroes = []\n",
    "for name in ['r1_hero','r2_hero','r3_hero','r4_hero','r5_hero','d1_hero','d2_hero','d3_hero','d4_hero','d5_hero']:\n",
    "    for u in pd.unique(features_train[name]):\n",
    "        if u not in unique_heroes:\n",
    "            unique_heroes.append(u)\n",
    "print 'len of unique heroes sequence:', len(unique_heroes)\n",
    "print 'min and max hero id:',min(unique_heroes),'-', max(unique_heroes)"
   ]
  },
  {
   "cell_type": "markdown",
   "metadata": {},
   "source": [
    "## Всего в игре 112 персонажей. Часть персонажей почему-то не была взята ни разу.\n",
    "## Id персонажей заканчивается на значении 112."
   ]
  },
  {
   "cell_type": "code",
   "execution_count": 100,
   "metadata": {
    "collapsed": false
   },
   "outputs": [],
   "source": [
    "#bag of words из примера\n",
    "X_pick = np.zeros((features_train.shape[0], 112))\n",
    "\n",
    "for i, match_id in enumerate(features_train.index):\n",
    "    for p in xrange(5):\n",
    "        X_pick[i, features_train.ix[match_id, 'r%d_hero' % (p+1)]-1] = 1\n",
    "        X_pick[i, features_train.ix[match_id, 'd%d_hero' % (p+1)]-1] = -1"
   ]
  },
  {
   "cell_type": "code",
   "execution_count": 102,
   "metadata": {
    "collapsed": true
   },
   "outputs": [],
   "source": [
    "scaled_pick = scaler.fit_transform(X_pick) #scaling для pick'а"
   ]
  },
  {
   "cell_type": "code",
   "execution_count": 104,
   "metadata": {
    "collapsed": false
   },
   "outputs": [],
   "source": [
    "scaled_train_bag = np.hstack((scaled_train_copy,scaled_pick)) #объединяем информацию"
   ]
  },
  {
   "cell_type": "code",
   "execution_count": 105,
   "metadata": {
    "collapsed": false
   },
   "outputs": [
    {
     "name": "stdout",
     "output_type": "stream",
     "text": [
      "[LibLinear]Time elapsed for c = 0.01 : 0:02:24.268000\n",
      "[LibLinear]Time elapsed for c = 0.1 : 0:02:36.132000\n",
      "[LibLinear]Time elapsed for c = 1.0 : 0:02:33.802000\n",
      "[LibLinear]Time elapsed for c = 10 : 0:01:37.912000\n",
      "[LibLinear]Time elapsed for c = 100 : 0:01:22.512000\n",
      "[LibLinear]Time elapsed for c = 1000 : 0:01:26.318000\n",
      "[LibLinear]Time elapsed for c = 10000 : 0:01:53.732000\n"
     ]
    }
   ],
   "source": [
    "bag_score = []#список результатов\n",
    "c_est = [0.01, 0.1, 1.0, 10, 100, 1000, 10000]#значения C для перебора\n",
    "for c in c_est:\n",
    "    start_time = datetime.datetime.now()\n",
    "    logr = LogisticRegression(penalty='l2',C=c,random_state=241,n_jobs=-1,verbose=True)#логистическая регрессия\n",
    "    logr.fit(scaled_train_bag, features_target)#обучаем класификатор\n",
    "    bag_score.append(sklearn.cross_validation.cross_val_score(logr,scaled_train_bag, features_target,cv=kf, n_jobs=-1,scoring='roc_auc').mean())\n",
    "    #к списку результатов добавляем средний получившийся на кросс-валидации результат по roc_auc score\n",
    "    print 'Time elapsed for c =', c,':', datetime.datetime.now() - start_time"
   ]
  },
  {
   "cell_type": "code",
   "execution_count": 106,
   "metadata": {
    "collapsed": false
   },
   "outputs": [
    {
     "data": {
      "text/plain": [
       "[0.75196916569788841,\n",
       " 0.75191224446526883,\n",
       " 0.75190435548856471,\n",
       " 0.75190368890352588,\n",
       " 0.75190367298922678,\n",
       " 0.75190364861601211,\n",
       " 0.75190364014098954]"
      ]
     },
     "execution_count": 106,
     "metadata": {},
     "output_type": "execute_result"
    }
   ],
   "source": [
    "bag_score"
   ]
  },
  {
   "cell_type": "markdown",
   "metadata": {},
   "source": [
    "Лучшее качество - 0.75196916569788841. Серьезное улучшение по сравнению с предыдующей попыткой.\n",
    "Стоит полагать, что подбор персонажей - информативный признак, который серьезно влияет на точность предсказаний. И это неудивительно, т.к. большую часть игры составляет умение подбора такого сочетания персонажей, которое бы имело преимущество над соперником."
   ]
  },
  {
   "cell_type": "code",
   "execution_count": 108,
   "metadata": {
    "collapsed": true
   },
   "outputs": [],
   "source": [
    "#проделаем над тестовым набором те же преобразования, что и над обучающим"
   ]
  },
  {
   "cell_type": "code",
   "execution_count": 107,
   "metadata": {
    "collapsed": true
   },
   "outputs": [],
   "source": [
    "features_test_copy = features_test.drop(['lobby_type','r1_hero','r2_hero','r3_hero','r4_hero','r5_hero','d1_hero','d2_hero','d3_hero','d4_hero','d5_hero'],axis=1)"
   ]
  },
  {
   "cell_type": "code",
   "execution_count": 109,
   "metadata": {
    "collapsed": true
   },
   "outputs": [],
   "source": [
    "scaled_test_copy = scaler.fit_transform(features_test_copy) #scaling для набора данных без информации о героях"
   ]
  },
  {
   "cell_type": "code",
   "execution_count": 110,
   "metadata": {
    "collapsed": true
   },
   "outputs": [],
   "source": [
    "#bag of words из примера\n",
    "X_test_pick = np.zeros((features_test.shape[0], 112))\n",
    "\n",
    "for i, match_id in enumerate(features_test.index):\n",
    "    for p in xrange(5):\n",
    "        X_test_pick[i, features_test.ix[match_id, 'r%d_hero' % (p+1)]-1] = 1\n",
    "        X_test_pick[i, features_test.ix[match_id, 'd%d_hero' % (p+1)]-1] = -1"
   ]
  },
  {
   "cell_type": "code",
   "execution_count": 112,
   "metadata": {
    "collapsed": true
   },
   "outputs": [],
   "source": [
    "scaled_test_pick = scaler.fit_transform(X_test_pick) #scaling для pick'а"
   ]
  },
  {
   "cell_type": "code",
   "execution_count": 113,
   "metadata": {
    "collapsed": true
   },
   "outputs": [],
   "source": [
    "scaled_test_bag = np.hstack((scaled_test_copy,scaled_test_pick)) #объединяем информацию"
   ]
  },
  {
   "cell_type": "code",
   "execution_count": 114,
   "metadata": {
    "collapsed": false
   },
   "outputs": [
    {
     "name": "stdout",
     "output_type": "stream",
     "text": [
      "[LibLinear]"
     ]
    }
   ],
   "source": [
    "logr_result = LogisticRegression(penalty='l2',C=0.01,random_state=241,n_jobs=-1,verbose=True)\n",
    "logr_result.fit(scaled_train_bag, features_target)#обучаем класификатор\n",
    "probabilities = logr_result.predict_proba(scaled_test_bag)"
   ]
  },
  {
   "cell_type": "code",
   "execution_count": 120,
   "metadata": {
    "collapsed": false
   },
   "outputs": [
    {
     "name": "stdout",
     "output_type": "stream",
     "text": [
      "[[ 0.1702269   0.8297731 ]\n",
      " [ 0.23826116  0.76173884]\n",
      " [ 0.8060362   0.1939638 ]\n",
      " ..., \n",
      " [ 0.75529882  0.24470118]\n",
      " [ 0.35827183  0.64172817]\n",
      " [ 0.5582418   0.4417582 ]]\n"
     ]
    }
   ],
   "source": [
    "print probabilities #вероятости классов"
   ]
  },
  {
   "cell_type": "code",
   "execution_count": 119,
   "metadata": {
    "collapsed": false
   },
   "outputs": [
    {
     "name": "stdout",
     "output_type": "stream",
     "text": [
      "максимумы вероятностей: 0.991404958922 0.996403192335\n",
      "минимумы вероятностей: 0.00359680766477 0.0085950410782\n"
     ]
    }
   ],
   "source": [
    "print 'максимумы вероятностей:',max(probabilities[:,0]),\n",
    "print max(probabilities[:,1])\n",
    "print 'минимумы вероятностей:',min(probabilities[:,0]),\n",
    "print min(probabilities[:,1])"
   ]
  },
  {
   "cell_type": "markdown",
   "metadata": {},
   "source": [
    "## Максимальные вероятности классов находятся на отрезке [0,1] - значит, мы получили правильные результаты. Вероятности не константы, модель получилась не контсатной."
   ]
  },
  {
   "cell_type": "code",
   "execution_count": null,
   "metadata": {
    "collapsed": true
   },
   "outputs": [],
   "source": []
  }
 ],
 "metadata": {
  "kernelspec": {
   "display_name": "Python 2",
   "language": "python",
   "name": "python2"
  },
  "language_info": {
   "codemirror_mode": {
    "name": "ipython",
    "version": 2
   },
   "file_extension": ".py",
   "mimetype": "text/x-python",
   "name": "python",
   "nbconvert_exporter": "python",
   "pygments_lexer": "ipython2",
   "version": "2.7.11"
  }
 },
 "nbformat": 4,
 "nbformat_minor": 0
}
