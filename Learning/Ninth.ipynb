{
 "cells": [
  {
   "cell_type": "code",
   "execution_count": 1,
   "metadata": {
    "collapsed": true
   },
   "outputs": [],
   "source": [
    "%matplotlib inline\n",
    "import matplotlib\n",
    "import pandas\n",
    "import matplotlib.pyplot as plt"
   ]
  },
  {
   "cell_type": "code",
   "execution_count": 2,
   "metadata": {
    "collapsed": true
   },
   "outputs": [],
   "source": [
    "import numpy as np\n",
    "classification = np.genfromtxt('classification.csv', delimiter=',',skip_header=1)\n",
    "scores = np.genfromtxt('scores.csv', delimiter=',',skip_header=1)"
   ]
  },
  {
   "cell_type": "code",
   "execution_count": 3,
   "metadata": {
    "collapsed": false
   },
   "outputs": [],
   "source": [
    "from sklearn import metrics"
   ]
  },
  {
   "cell_type": "code",
   "execution_count": 4,
   "metadata": {
    "collapsed": true
   },
   "outputs": [],
   "source": [
    "tr = classification[:,0]\n",
    "pred = classification[:,1]"
   ]
  },
  {
   "cell_type": "code",
   "execution_count": 9,
   "metadata": {
    "collapsed": false
   },
   "outputs": [
    {
     "name": "stdout",
     "output_type": "stream",
     "text": [
      "   true  pred\n",
      "0     1     0\n",
      "1     1     1\n",
      "2     1     1\n",
      "3     0     0\n",
      "4     1     1\n",
      "   true  score_logreg  score_svm  score_knn  score_tree\n",
      "0     0      0.683832   0.145976   0.787063    0.500000\n",
      "1     1      0.801966   0.239511   1.000000    0.833333\n",
      "2     0      0.382315  -0.245701   0.000000    0.000000\n",
      "3     1      0.506797  -0.137058   0.000000    0.105263\n",
      "4     1      0.488781  -0.154148   0.000000    0.105263\n"
     ]
    }
   ],
   "source": [
    "classification_pd = pandas.read_csv('classification.csv')\n",
    "scores_pd = pandas.read_csv('scores.csv')\n",
    "print classification_pd.head()\n",
    "print scores_pd.head()"
   ]
  },
  {
   "cell_type": "code",
   "execution_count": 11,
   "metadata": {
    "collapsed": false
   },
   "outputs": [
    {
     "name": "stdout",
     "output_type": "stream",
     "text": [
      "43 34 59 64\n"
     ]
    }
   ],
   "source": [
    "TP=FP=FN=TN=0 \n",
    "for i in range(len(tr)):\n",
    "    if int(tr[i])==1 and int(pred[i])==1:\n",
    "        TP += 1\n",
    "    elif int(tr[i])==0 and int(pred[i])==0:\n",
    "        TN += 1\n",
    "    elif int(tr[i])==1 and int(pred[i])==0:\n",
    "        FN += 1\n",
    "    else:\n",
    "        FP += 1\n",
    "print TP, FP, FN, TN "
   ]
  },
  {
   "cell_type": "code",
   "execution_count": 12,
   "metadata": {
    "collapsed": true
   },
   "outputs": [],
   "source": [
    "scores_1 = pandas.read_csv('scores.csv')"
   ]
  },
  {
   "cell_type": "code",
   "execution_count": 13,
   "metadata": {
    "collapsed": false
   },
   "outputs": [
    {
     "data": {
      "text/html": [
       "<div>\n",
       "<table border=\"1\" class=\"dataframe\">\n",
       "  <thead>\n",
       "    <tr style=\"text-align: right;\">\n",
       "      <th></th>\n",
       "      <th>true</th>\n",
       "      <th>score_logreg</th>\n",
       "      <th>score_svm</th>\n",
       "      <th>score_knn</th>\n",
       "      <th>score_tree</th>\n",
       "    </tr>\n",
       "  </thead>\n",
       "  <tbody>\n",
       "    <tr>\n",
       "      <th>0</th>\n",
       "      <td>0</td>\n",
       "      <td>0.683832</td>\n",
       "      <td>0.145976</td>\n",
       "      <td>0.787063</td>\n",
       "      <td>0.500000</td>\n",
       "    </tr>\n",
       "    <tr>\n",
       "      <th>1</th>\n",
       "      <td>1</td>\n",
       "      <td>0.801966</td>\n",
       "      <td>0.239511</td>\n",
       "      <td>1.000000</td>\n",
       "      <td>0.833333</td>\n",
       "    </tr>\n",
       "    <tr>\n",
       "      <th>2</th>\n",
       "      <td>0</td>\n",
       "      <td>0.382315</td>\n",
       "      <td>-0.245701</td>\n",
       "      <td>0.000000</td>\n",
       "      <td>0.000000</td>\n",
       "    </tr>\n",
       "    <tr>\n",
       "      <th>3</th>\n",
       "      <td>1</td>\n",
       "      <td>0.506797</td>\n",
       "      <td>-0.137058</td>\n",
       "      <td>0.000000</td>\n",
       "      <td>0.105263</td>\n",
       "    </tr>\n",
       "    <tr>\n",
       "      <th>4</th>\n",
       "      <td>1</td>\n",
       "      <td>0.488781</td>\n",
       "      <td>-0.154148</td>\n",
       "      <td>0.000000</td>\n",
       "      <td>0.105263</td>\n",
       "    </tr>\n",
       "  </tbody>\n",
       "</table>\n",
       "</div>"
      ],
      "text/plain": [
       "   true  score_logreg  score_svm  score_knn  score_tree\n",
       "0     0      0.683832   0.145976   0.787063    0.500000\n",
       "1     1      0.801966   0.239511   1.000000    0.833333\n",
       "2     0      0.382315  -0.245701   0.000000    0.000000\n",
       "3     1      0.506797  -0.137058   0.000000    0.105263\n",
       "4     1      0.488781  -0.154148   0.000000    0.105263"
      ]
     },
     "execution_count": 13,
     "metadata": {},
     "output_type": "execute_result"
    }
   ],
   "source": [
    "scores_1.head()"
   ]
  },
  {
   "cell_type": "code",
   "execution_count": 14,
   "metadata": {
    "collapsed": false
   },
   "outputs": [],
   "source": [
    "real = scores[:,0]\n",
    "log = scores[:,1]\n",
    "svm = scores[:,2]\n",
    "knn = scores[:,3]\n",
    "tree = scores[:,4]"
   ]
  },
  {
   "cell_type": "code",
   "execution_count": 15,
   "metadata": {
    "collapsed": false
   },
   "outputs": [
    {
     "name": "stdout",
     "output_type": "stream",
     "text": [
      "0.54\n",
      "0.56\n",
      "0.42\n",
      "0.48\n"
     ]
    }
   ],
   "source": [
    "print round(metrics.accuracy_score(tr, pred),2)\n",
    "print round(metrics.precision_score(tr, pred),2)\n",
    "print round(metrics.recall_score(tr, pred),2)\n",
    "print round(metrics.f1_score(tr, pred),2)"
   ]
  },
  {
   "cell_type": "code",
   "execution_count": 17,
   "metadata": {
    "collapsed": false
   },
   "outputs": [
    {
     "name": "stdout",
     "output_type": "stream",
     "text": [
      "0.72\n",
      "0.71\n",
      "0.64\n",
      "0.69\n"
     ]
    }
   ],
   "source": [
    "print round(metrics.roc_auc_score(real,log),2)\n",
    "print round(metrics.roc_auc_score(real,svm),2)\n",
    "print round(metrics.roc_auc_score(real,knn),2)\n",
    "print round(metrics.roc_auc_score(real,tree),2)"
   ]
  },
  {
   "cell_type": "code",
   "execution_count": 18,
   "metadata": {
    "collapsed": true
   },
   "outputs": [],
   "source": [
    "precision, recall, thresholds = metrics.precision_recall_curve(real,log)\n",
    "precision_1, recall_1, thresholds_1 = metrics.precision_recall_curve(real,svm)\n",
    "precision_2, recall_2, thresholds_2 = metrics.precision_recall_curve(real,knn)\n",
    "precision_3, recall_3, thresholds_3 = metrics.precision_recall_curve(real,tree)"
   ]
  },
  {
   "cell_type": "code",
   "execution_count": 21,
   "metadata": {
    "collapsed": false
   },
   "outputs": [
    {
     "data": {
      "text/plain": [
       "[<matplotlib.lines.Line2D at 0x1dcadc50>]"
      ]
     },
     "execution_count": 21,
     "metadata": {},
     "output_type": "execute_result"
    },
    {
     "data": {
      "image/png": "[encoded data removed]",
      "text/plain": [
       "<matplotlib.figure.Figure at 0x1d79d3c8>"
      ]
     },
     "metadata": {},
     "output_type": "display_data"
    }
   ],
   "source": [
    "plt.plot(recall, precision)\n",
    "plt.plot(recall_1, precision_1)\n",
    "plt.plot(recall_2, precision_2)\n",
    "plt.plot(recall_3, precision_3)"
   ]
  },
  {
   "cell_type": "code",
   "execution_count": 32,
   "metadata": {
    "collapsed": false
   },
   "outputs": [
    {
     "name": "stderr",
     "output_type": "stream",
     "text": [
      "C:\\Anaconda\\lib\\site-packages\\ipykernel\\__main__.py:3: DeprecationWarning: using a non-integer number instead of an integer will result in an error in the future\n",
      "  app.launch_new_instance()\n",
      "C:\\Anaconda\\lib\\site-packages\\ipykernel\\__main__.py:4: DeprecationWarning: using a non-integer number instead of an integer will result in an error in the future\n",
      "C:\\Anaconda\\lib\\site-packages\\ipykernel\\__main__.py:6: DeprecationWarning: using a non-integer number instead of an integer will result in an error in the future\n",
      "C:\\Anaconda\\lib\\site-packages\\ipykernel\\__main__.py:7: DeprecationWarning: using a non-integer number instead of an integer will result in an error in the future\n",
      "C:\\Anaconda\\lib\\site-packages\\ipykernel\\__main__.py:9: DeprecationWarning: using a non-integer number instead of an integer will result in an error in the future\n",
      "C:\\Anaconda\\lib\\site-packages\\ipykernel\\__main__.py:10: DeprecationWarning: using a non-integer number instead of an integer will result in an error in the future\n",
      "C:\\Anaconda\\lib\\site-packages\\ipykernel\\__main__.py:12: DeprecationWarning: using a non-integer number instead of an integer will result in an error in the future\n",
      "C:\\Anaconda\\lib\\site-packages\\ipykernel\\__main__.py:13: DeprecationWarning: using a non-integer number instead of an integer will result in an error in the future\n"
     ]
    }
   ],
   "source": [
    "result = {'first':[],'second':[],'third':[],'forth':[]}\n",
    "for i in recall:\n",
    "    if recall[i] > 0.7:\n",
    "        result['first'].append(precision[i])\n",
    "for i in recall_1:\n",
    "    if recall_1[i] > 0.7:\n",
    "        result['second'].append(precision_1[i])\n",
    "for i in recall_2:\n",
    "    if recall_2[i] > 0.7:\n",
    "        result['third'].append(precision_2[i]) \n",
    "for i in recall_3:\n",
    "    if recall_3[i] > 0.7:\n",
    "        result['forth'].append(precision_3[i])         "
   ]
  },
  {
   "cell_type": "code",
   "execution_count": 33,
   "metadata": {
    "collapsed": false
   },
   "outputs": [
    {
     "name": "stdout",
     "output_type": "stream",
     "text": [
      "second 0.49\n",
      "forth 0.5\n",
      "third 0.53\n",
      "first 0.5\n"
     ]
    }
   ],
   "source": [
    "for key in result.keys():\n",
    "    print key + ' ' + str(round(max(result[key]),2))"
   ]
  },
  {
   "cell_type": "code",
   "execution_count": null,
   "metadata": {
    "collapsed": true
   },
   "outputs": [],
   "source": []
  }
 ],
 "metadata": {
  "kernelspec": {
   "display_name": "Python 2",
   "language": "python",
   "name": "python2"
  },
  "language_info": {
   "codemirror_mode": {
    "name": "ipython",
    "version": 2
   },
   "file_extension": ".py",
   "mimetype": "text/x-python",
   "name": "python",
   "nbconvert_exporter": "python",
   "pygments_lexer": "ipython2",
   "version": "2.7.11"
  }
 },
 "nbformat": 4,
 "nbformat_minor": 0
}
